{
 "cells": [
  {
   "cell_type": "code",
   "execution_count": null,
   "id": "2ddafacf",
   "metadata": {},
   "outputs": [],
   "source": [
    "from dhllinalg.bla import Matrix, Vector"
   ]
  },
  {
   "cell_type": "code",
   "execution_count": null,
   "id": "b376799f",
   "metadata": {},
   "outputs": [],
   "source": [
    "m = Matrix(10,10)\n",
    "for i in range(10):\n",
    "   for j in range(10):\n",
    "      m[i,j] = i + 2 * j"
   ]
  },
  {
   "cell_type": "code",
   "execution_count": null,
   "id": "26f23342",
   "metadata": {},
   "outputs": [],
   "source": [
    "print(m)"
   ]
  },
  {
   "cell_type": "code",
   "execution_count": null,
   "id": "c199c939",
   "metadata": {},
   "outputs": [],
   "source": [
    "x = Vector(10)\n",
    "for i in range(10):\n",
    "    x[i] = i "
   ]
  },
  {
   "cell_type": "code",
   "execution_count": null,
   "id": "c281b55a",
   "metadata": {},
   "outputs": [],
   "source": [
    "print(m*x)"
   ]
  },
  {
   "cell_type": "code",
   "execution_count": null,
   "id": "5936a002",
   "metadata": {},
   "outputs": [],
   "source": []
  }
 ],
 "metadata": {
  "kernelspec": {
   "display_name": "Python 3 (ipykernel)",
   "language": "python",
   "name": "python3"
  },
  "language_info": {
   "codemirror_mode": {
    "name": "ipython",
    "version": 3
   },
   "file_extension": ".py",
   "mimetype": "text/x-python",
   "name": "python",
   "nbconvert_exporter": "python",
   "pygments_lexer": "ipython3",
   "version": "3.11.4"
  }
 },
 "nbformat": 4,
 "nbformat_minor": 5
}
