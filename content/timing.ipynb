{
 "cells": [
  {
   "cell_type": "code",
   "execution_count": null,
   "id": "ac6748ec",
   "metadata": {},
   "outputs": [],
   "source": [
    "from pathlib import Path\n",
    "import time\n",
    "import pandas as pd\n",
    "import sys\n",
    "from dhllinalg.bla import Matrix, ParallelComputing, NumThreads"
   ]
  },
  {
   "cell_type": "code",
   "execution_count": null,
   "id": "214b6dbd",
   "metadata": {},
   "outputs": [],
   "source": [
    "s = 150\n",
    "numTestsPerS = 20\n",
    "maxS = 750\n",
    "incS = 25"
   ]
  },
  {
   "cell_type": "code",
   "execution_count": null,
   "id": "be338627",
   "metadata": {},
   "outputs": [],
   "source": [
    "file_name = \"results.csv\"\n",
    "if Path(file_name).is_file():\n",
    "    print(\n",
    "        f\"File with name: {file_name} already exists. Either change the name or delete the old file\"\n",
    "    )\n",
    "    sys.exit()"
   ]
  },
  {
   "cell_type": "code",
   "execution_count": null,
   "id": "45db15d9",
   "metadata": {},
   "outputs": [],
   "source": [
    "iterations = []\n",
    "threads = []\n",
    "time_in_ns = []\n",
    "matrix_size = []\n",
    "gmacs = []\n",
    "\n",
    "while s <= maxS:\n",
    "    print(f\"initializing {s}x{s} matrices...\\t\")\n",
    "    m = Matrix(s, s)\n",
    "    n = Matrix(s, s)\n",
    "    for i in range(s):\n",
    "        for j in range(s):\n",
    "            m[i, j] = i + j\n",
    "            n[i, j] = 2 * i + j\n",
    "\n",
    "    print(\"done.\\n\")\n",
    "\n",
    "    for i in range(numTestsPerS):\n",
    "        nThreads = 1\n",
    "        print(f\"{i}:\")\n",
    "        sys.stdout.write(\"\\tMeasuring with 1 thread...\\t\")\n",
    "        sys.stdout.flush()\n",
    "        start = time.time_ns()\n",
    "        c = m * n\n",
    "        end = time.time_ns()\n",
    "        print(\"done.\")\n",
    "        t = end - start\n",
    "        iterations.append(i)\n",
    "        threads.append(nThreads)\n",
    "        time_in_ns.append(t)\n",
    "        matrix_size.append(s)\n",
    "        gmacs.append(s**3 / t)\n",
    "        print(f\"\\tt={t/1e9}s\")\n",
    "\n",
    "        with ParallelComputing():\n",
    "            nThreads = NumThreads()\n",
    "            sys.stdout.write(f\"\\tMeasuring with {NumThreads()} threads...\\t\")\n",
    "            sys.stdout.flush()\n",
    "            start = time.time_ns()\n",
    "            d = m * n\n",
    "            end = time.time_ns()\n",
    "            print(\"done.\")\n",
    "            t = end - start\n",
    "            iterations.append(i)\n",
    "            threads.append(nThreads)\n",
    "            time_in_ns.append(t)\n",
    "            matrix_size.append(s)\n",
    "            gmacs.append(s**3 / t)\n",
    "            print(f\"\\tt={t/1e9}s\")\n",
    "\n",
    "    s += incS"
   ]
  },
  {
   "cell_type": "code",
   "execution_count": null,
   "id": "16f7e89a",
   "metadata": {},
   "outputs": [],
   "source": [
    "df = pd.DataFrame(\n",
    "    {\n",
    "        \"iterations\": iterations,\n",
    "        \"threads\": threads,\n",
    "        \"time_in_ns\": time_in_ns,\n",
    "        \"matrix_size\": matrix_size,\n",
    "        \"gmacs\": gmacs,\n",
    "    }\n",
    ")\n",
    "\n",
    "df.to_csv(file_name, index=False)"
   ]
  },
  {
   "cell_type": "code",
   "execution_count": null,
   "id": "d29f3ff8",
   "metadata": {},
   "outputs": [],
   "source": []
  }
 ],
 "metadata": {
  "kernelspec": {
   "display_name": "Python 3 (ipykernel)",
   "language": "python",
   "name": "python3"
  },
  "language_info": {
   "codemirror_mode": {
    "name": "ipython",
    "version": 3
   },
   "file_extension": ".py",
   "mimetype": "text/x-python",
   "name": "python",
   "nbconvert_exporter": "python",
   "pygments_lexer": "ipython3",
   "version": "3.11.4"
  }
 },
 "nbformat": 4,
 "nbformat_minor": 5
}
