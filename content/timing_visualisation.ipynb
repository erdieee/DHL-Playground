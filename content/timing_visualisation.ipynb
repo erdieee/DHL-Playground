{
 "cells": [
  {
   "cell_type": "code",
   "execution_count": null,
   "id": "34de6b8c",
   "metadata": {},
   "outputs": [],
   "source": [
    "import pandas as pd\n",
    "import matplotlib.pyplot as plt\n",
    "import numpy as np"
   ]
  },
  {
   "cell_type": "code",
   "execution_count": null,
   "id": "5701056c",
   "metadata": {},
   "outputs": [],
   "source": [
    "df = pd.read_csv(\"example_results.csv\")\n",
    "df.head()"
   ]
  },
  {
   "cell_type": "code",
   "execution_count": null,
   "id": "545ab504",
   "metadata": {},
   "outputs": [],
   "source": [
    "df_grouped = (\n",
    "    df.groupby([\"threads\", \"matrix_size\"])[\"gmacs\"]\n",
    "    .agg(['mean', 'std', 'count'])\n",
    ")\n",
    "df_grouped['ci'] = 1.96 * df_grouped['std'] / np.sqrt(df_grouped['count'])\n",
    "df_grouped['ci_lower'] = df_grouped['mean'] - df_grouped['ci']\n",
    "df_grouped['ci_upper'] = df_grouped['mean'] + df_grouped['ci']\n",
    "\n",
    "df_grouped = df_grouped.reset_index()\n",
    "df_grouped.head()"
   ]
  },
  {
   "cell_type": "code",
   "execution_count": null,
   "id": "58e1fd65",
   "metadata": {},
   "outputs": [],
   "source": [
    "plt.figure(figsize=(10, 6))\n",
    "\n",
    "for thread in df['threads'].unique():\n",
    "    thread_data = df[df['threads'] == thread]\n",
    "    plt.scatter(thread_data['matrix_size'], thread_data['gmacs'], label=f'Threads: {thread}')\n",
    "    \n",
    "    thread_data_grouped = df_grouped[df_grouped[\"threads\"] == thread]\n",
    "    # Add mean line and a single filled confidence interval for each thread\n",
    "    plt.plot(thread_data_grouped[\"matrix_size\"], thread_data_grouped[\"mean\"], label=f'Mean Thread {thread}')\n",
    "    plt.fill_between(thread_data_grouped[\"matrix_size\"], thread_data_grouped[\"ci_lower\"], thread_data_grouped[\"ci_upper\"], alpha=0.2)\n",
    "\n",
    "plt.xlabel('Matrix Size')\n",
    "plt.ylabel('GMAC/s')\n",
    "plt.title('GMAC/s vs Matrix Size for Different Threads with Mean and Confidence Intervals')\n",
    "plt.legend()\n",
    "plt.grid()\n",
    "# plt.yscale('log') \n",
    "plt.show()"
   ]
  },
  {
   "cell_type": "code",
   "execution_count": null,
   "id": "461f659d",
   "metadata": {},
   "outputs": [],
   "source": []
  }
 ],
 "metadata": {
  "kernelspec": {
   "display_name": "Python 3 (ipykernel)",
   "language": "python",
   "name": "python3"
  },
  "language_info": {
   "codemirror_mode": {
    "name": "ipython",
    "version": 3
   },
   "file_extension": ".py",
   "mimetype": "text/x-python",
   "name": "python",
   "nbconvert_exporter": "python",
   "pygments_lexer": "ipython3",
   "version": "3.11.4"
  }
 },
 "nbformat": 4,
 "nbformat_minor": 5
}
